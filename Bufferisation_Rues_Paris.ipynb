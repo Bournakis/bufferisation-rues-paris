{
  "cells": [
    {
      "cell_type": "code",
      "execution_count": null,
      "metadata": {},
      "outputs": [],
      "source": [
        "# Mini outil IA - Conversion de rues (LineString) en zones (Polygon)",
        "# N\u00e9cessite l'upload d'un fichier GeoJSON contenant des lignes (rues)",
        "",
        "!pip install geopandas shapely",
        "",
        "import geopandas as gpd",
        "from shapely.geometry import LineString",
        "from google.colab import files",
        "",
        "# \u00c9tape 1 : Importer le fichier GeoJSON",
        "uploaded = files.upload()",
        "for filename in uploaded.keys():",
        "    input_path = filename",
        "",
        "# \u00c9tape 2 : Charger le GeoJSON",
        "gdf = gpd.read_file(input_path)",
        "",
        "# \u00c9tape 3 : Filtrer les LineString (rues) et appliquer un buffer (\u2248 6m)",
        "gdf['geometry_type'] = gdf.geometry.type",
        "lines = gdf[gdf['geometry_type'] == 'LineString'].copy()",
        "lines['geometry'] = lines.geometry.buffer(0.000054)  # 6m approximatif",
        "",
        "# \u00c9tape 4 : Exporter le GeoJSON bufferis\u00e9",
        "output_path = \"rues_bufferisees.geojson\"",
        "lines.to_file(output_path, driver=\"GeoJSON\")",
        "",
        "# \u00c9tape 5 : T\u00e9l\u00e9charger le fichier",
        "files.download(output_path)"
      ]
    }
  ],
  "metadata": {
    "colab": {
      "name": "Bufferisation_Rues_Paris",
      "provenance": []
    },
    "kernelspec": {
      "display_name": "Python 3",
      "language": "python",
      "name": "python3"
    },
    "language_info": {
      "name": "python"
    }
  },
  "nbformat": 4,
  "nbformat_minor": 0
}